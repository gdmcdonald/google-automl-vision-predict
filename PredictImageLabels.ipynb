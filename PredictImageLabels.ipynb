{
 "cells": [
  {
   "cell_type": "code",
   "execution_count": 1,
   "metadata": {},
   "outputs": [],
   "source": [
    "import os\n",
    "import re #regular expressions\n",
    "from tqdm import tqdm #progress bar\n",
    "from shutil import copyfile #letting me copy files\n",
    "import pathlib\n",
    "\n",
    "#FIXME: you need to change this path to wherever you downloaded the service account access credentials .json file to\n",
    "#sets the environment variable as to where the google automl access credentials are:\n",
    "os.environ['GOOGLE_APPLICATION_CREDENTIALS'] = str(\"path/to/model_access_credentials.json\")\n",
    "\n",
    "#you also need to install the google automl client libraries: \n",
    "#> pip install google-cloud-automl\n",
    "from google.cloud import automl_v1beta1"
   ]
  },
  {
   "cell_type": "code",
   "execution_count": 1,
   "metadata": {},
   "outputs": [],
   "source": [
    "#file paths on your local computer, relative paths from this notebook. \n",
    "#FIXME: change these as appropriate for your project\n",
    "#input\n",
    "img_folder = \"./my_images_to_classify/\"\n",
    "#output\n",
    "cat_img_folder = \"./my_classified_images/\""
   ]
  },
  {
   "cell_type": "code",
   "execution_count": 3,
   "metadata": {},
   "outputs": [],
   "source": [
    "#Opens a prediction client. \n",
    "#Important not to do this once per image as it breaks after a few tens of images. \n",
    "#This is why it is out of the loop.\n",
    "prediction_client = automl_v1beta1.PredictionServiceClient()\n",
    "\n",
    "#project and model ids, you will need to set these as yours\n",
    "#FIXME: change to your project and model ids\n",
    "def_project_id=\"my_project\"\n",
    "def_model_id=\"ABC01234567890123456789\""
   ]
  },
  {
   "cell_type": "code",
   "execution_count": 2,
   "metadata": {},
   "outputs": [],
   "source": [
    "def get_prediction(content, project_id = def_project_id, model_id = def_model_id, prediction_client = prediction_client):\n",
    "    '''Given 'content' is the contents of an image file, \n",
    "    returns a prediction object from Google AutoML\n",
    "    '''\n",
    "    \n",
    "    name = 'projects/{}/locations/us-central1/models/{}'.format(project_id, model_id)\n",
    "    payload = {'image': {'image_bytes': content }}\n",
    "    params = {}\n",
    "    request = prediction_client.predict(name, payload, params)\n",
    "    return request  # waits till request is returned"
   ]
  },
  {
   "cell_type": "code",
   "execution_count": 3,
   "metadata": {},
   "outputs": [],
   "source": [
    "def get_classification(prediction):\n",
    "    '''From a prediction object, this function gets the display_name, \n",
    "    i.e. the predicted category, and returns it as a string.\n",
    "    '''\n",
    "    \n",
    "    text = str(prediction.payload)\n",
    "\n",
    "    try:\n",
    "        found = re.search('display_name: \"(.+?)\"\\n', text).group(1)\n",
    "    except AttributeError:\n",
    "        # 'display_name: \"XXXXXXXXX\"\\n' not found in the original string\n",
    "        found = ''\n",
    "    return found"
   ]
  },
  {
   "cell_type": "code",
   "execution_count": 4,
   "metadata": {},
   "outputs": [],
   "source": [
    "def get_class_from_filepath(image_path):\n",
    "    '''Opens the file located at image_path, and predicts its classification.\n",
    "    Returns it as a string. \n",
    "    Example:\n",
    "    get_class_from_filepath('./subfolder/my_image.jpg')\n",
    "    '''\n",
    "    \n",
    "    with open(image_path, 'rb') as ff:\n",
    "        content = ff.read()\n",
    "    \n",
    "    pred=get_prediction(content=content)\n",
    "    return get_classification(pred)"
   ]
  },
  {
   "cell_type": "code",
   "execution_count": 7,
   "metadata": {},
   "outputs": [],
   "source": [
    "#Get all file names of .jpg(s) in the specified directory\n",
    "contents_of_dir=os.listdir(img_folder)\n",
    "jpgs_in_dir = [file for file in contents_of_dir if file.endswith(\".jpg\")]"
   ]
  },
  {
   "cell_type": "code",
   "execution_count": null,
   "metadata": {
    "scrolled": true
   },
   "outputs": [],
   "source": [
    "#Make a dictionary of predictions in a for loop. This is where the time is spent.\n",
    "img_classes = dict()\n",
    "total_len = len(jpgs_in_dir)\n",
    "\n",
    "for i in tqdm(range(0,total_len)):\n",
    "    #print('\\rClassifying ' + str(i) + ' out of ' + str(total_len))\n",
    "    file = jpgs_in_dir[i]\n",
    "    img_classes.update({file: [file, get_class_from_filepath(img_folder + file)]})"
   ]
  },
  {
   "cell_type": "code",
   "execution_count": null,
   "metadata": {},
   "outputs": [],
   "source": [
    "list_of_classes = [value[1] for key, value in img_classes.items()]\n",
    "\n",
    "#Get only unique elements by converting to a set and then back to a list\n",
    "list_of_classes = [*{*list_of_classes}]\n",
    "\n",
    "#Make classified folders if they don't exist:\n",
    "for sub_dir in list_of_classes:\n",
    "    pathlib.Path(cat_img_folder+sub_dir).mkdir(parents=True, exist_ok=True) "
   ]
  },
  {
   "cell_type": "code",
   "execution_count": 109,
   "metadata": {},
   "outputs": [],
   "source": [
    "#Copy jpgs to classified folders\n",
    "for key, value in img_classes.items():\n",
    "    source = img_folder+key\n",
    "    destin = cat_img_folder+value[1]+'/'+key\n",
    "    copyfile(source, destin)"
   ]
  }
 ],
 "metadata": {
  "kernelspec": {
   "display_name": "Python 3",
   "language": "python",
   "name": "python3"
  },
  "language_info": {
   "codemirror_mode": {
    "name": "ipython",
    "version": 3
   },
   "file_extension": ".py",
   "mimetype": "text/x-python",
   "name": "python",
   "nbconvert_exporter": "python",
   "pygments_lexer": "ipython3",
   "version": "3.7.1"
  }
 },
 "nbformat": 4,
 "nbformat_minor": 2
}
